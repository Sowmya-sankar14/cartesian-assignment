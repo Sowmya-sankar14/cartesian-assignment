{
 "cells": [
  {
   "cell_type": "code",
   "execution_count": 1,
   "id": "f086a248",
   "metadata": {},
   "outputs": [
    {
     "name": "stdout",
     "output_type": "stream",
     "text": [
      "This declaration represents a political commitment among declaration partners to advance a positive vision for the Internet in this era of a united europe\n",
      "\n",
      "REVERSED STRING:\n",
      "\n",
      "Europe united a of era this in internet the for vision positive a advance to partners declaration among commitment political a represents declaration this\n"
     ]
    }
   ],
   "source": [
    "a=input()\n",
    "b=a.split(\" \")\n",
    "l=[]\n",
    "for i in b:\n",
    "    l.append(i)\n",
    "l=l[::-1]\n",
    "print(\"\\nREVERSED STRING:\\n\")\n",
    "print(\" \".join(l).capitalize())"
   ]
  },
  {
   "cell_type": "code",
   "execution_count": 2,
   "id": "ab0e8f5a",
   "metadata": {},
   "outputs": [],
   "source": [
    "words = a.lower().split()"
   ]
  },
  {
   "cell_type": "code",
   "execution_count": 3,
   "id": "dc96e8f1",
   "metadata": {},
   "outputs": [
    {
     "name": "stdout",
     "output_type": "stream",
     "text": [
      " a       3\n",
      "this    2\n",
      "dtype: int64 times\n"
     ]
    }
   ],
   "source": [
    "words.sort()\n",
    "import pandas as pd\n",
    "original_list = words\n",
    "a=pd.Series(original_list).value_counts().sort_values(ascending=False)[:2]\n",
    "print(f\" {a} times\")"
   ]
  },
  {
   "cell_type": "code",
   "execution_count": null,
   "id": "08665562",
   "metadata": {},
   "outputs": [],
   "source": []
  },
  {
   "cell_type": "code",
   "execution_count": null,
   "id": "61af7448",
   "metadata": {},
   "outputs": [],
   "source": []
  },
  {
   "cell_type": "code",
   "execution_count": null,
   "id": "a539bd96",
   "metadata": {},
   "outputs": [],
   "source": []
  }
 ],
 "metadata": {
  "kernelspec": {
   "display_name": "Python 3 (ipykernel)",
   "language": "python",
   "name": "python3"
  },
  "language_info": {
   "codemirror_mode": {
    "name": "ipython",
    "version": 3
   },
   "file_extension": ".py",
   "mimetype": "text/x-python",
   "name": "python",
   "nbconvert_exporter": "python",
   "pygments_lexer": "ipython3",
   "version": "3.9.7"
  }
 },
 "nbformat": 4,
 "nbformat_minor": 5
}
