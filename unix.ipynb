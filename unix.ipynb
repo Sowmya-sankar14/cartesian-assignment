{
 "cells": [
  {
   "cell_type": "code",
   "execution_count": null,
   "id": "472a15f5",
   "metadata": {},
   "outputs": [],
   "source": [
    "# unix command"
   ]
  },
  {
   "cell_type": "code",
   "execution_count": null,
   "id": "1933f323",
   "metadata": {},
   "outputs": [],
   "source": [
    "# ASSIGNMENT-01UNIX "
   ]
  },
  {
   "cell_type": "code",
   "execution_count": null,
   "id": "4276d482",
   "metadata": {},
   "outputs": [],
   "source": [
    "cut -d, -f3 filename | sort | uniq"
   ]
  },
  {
   "cell_type": "code",
   "execution_count": 1,
   "id": "acdbc5a0",
   "metadata": {},
   "outputs": [],
   "source": [
    "# ASSIGNMENT-02UNIX "
   ]
  },
  {
   "cell_type": "code",
   "execution_count": null,
   "id": "0ef4db49",
   "metadata": {},
   "outputs": [],
   "source": [
    "cat * > newfilename.txt"
   ]
  }
 ],
 "metadata": {
  "kernelspec": {
   "display_name": "Python 3 (ipykernel)",
   "language": "python",
   "name": "python3"
  },
  "language_info": {
   "codemirror_mode": {
    "name": "ipython",
    "version": 3
   },
   "file_extension": ".py",
   "mimetype": "text/x-python",
   "name": "python",
   "nbconvert_exporter": "python",
   "pygments_lexer": "ipython3",
   "version": "3.9.7"
  }
 },
 "nbformat": 4,
 "nbformat_minor": 5
}
